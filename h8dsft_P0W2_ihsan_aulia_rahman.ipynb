{
  "cells": [
    {
      "cell_type": "markdown",
      "metadata": {
        "id": "UFxn0Dd0d0s5"
      },
      "source": [
        "#**Austin Waste Disposal**"
      ]
    },
    {
      "cell_type": "markdown",
      "metadata": {
        "id": "kHQlQqU4d0s6"
      },
      "source": [
        "##**Identity**"
      ]
    },
    {
      "cell_type": "markdown",
      "metadata": {
        "id": "yBolYUGxpWeF"
      },
      "source": [
        "Ihsan Aulia Rahman\n",
        "\n",
        "Full Time Data Science\n",
        "\n",
        "HCK-Batch-001"
      ]
    },
    {
      "cell_type": "markdown",
      "metadata": {
        "id": "HxDFFBHvmcj0"
      },
      "source": [
        "##**Description**"
      ]
    },
    {
      "cell_type": "markdown",
      "metadata": {
        "id": "AwIYe1G1pgMx"
      },
      "source": [
        "###Problem Statement"
      ]
    },
    {
      "cell_type": "markdown",
      "metadata": {
        "id": "k3e6RWmWplY7"
      },
      "source": [
        "The city of Austin has a load of waste being disposed everyday. As a data scientist, we are challenged by this assigment to pull some insight out of it."
      ]
    },
    {
      "cell_type": "markdown",
      "metadata": {
        "id": "ppsFcdLSpoxd"
      },
      "source": [
        "###Objective"
      ]
    },
    {
      "cell_type": "markdown",
      "metadata": {
        "id": "RYIlDyG5psp5"
      },
      "source": [
        "The goals of this assignment are:\n",
        "\n",
        "1. Load the data from Google Cloud BigQuery\n",
        "2. Clean up the data \n",
        "3. See the central tendencies of the data\n",
        "4. Check the data's spread\n",
        "5. Use confidence interval and hypotesting on the data\n",
        "\n"
      ]
    },
    {
      "cell_type": "markdown",
      "metadata": {
        "id": "rTHXOC0dwXcR"
      },
      "source": [
        "#**A. Libraries**"
      ]
    },
    {
      "cell_type": "markdown",
      "metadata": {
        "id": "ccfIB0yayDcT"
      },
      "source": [
        "Here we import the necessary function libraries for the job."
      ]
    },
    {
      "cell_type": "code",
      "execution_count": 2,
      "metadata": {
        "id": "7LxOSJ6zd0s-"
      },
      "outputs": [],
      "source": [
        "import numpy as np\n",
        "from numpy.linalg import inv, det, eig\n",
        "from numpy import diag\n",
        "\n",
        "import sympy as sy\n",
        "from sympy.tensor.array import derive_by_array\n",
        "\n",
        "import pandas as pd\n",
        "import matplotlib.pyplot as plt\n",
        "import seaborn as sns\n",
        "\n",
        "from pylab import *\n",
        "\n",
        "import scipy\n",
        "import scipy.stats as stats\n",
        "\n",
        "def plot_vector2d(vector2d, origin=[0, 0], **options):\n",
        "    return plt.arrow(origin[0], origin[1], vector2d[0], vector2d[1],\n",
        "              head_width=0.2, head_length=0.3, length_includes_head=True,\n",
        "              **options)"
      ]
    },
    {
      "cell_type": "markdown",
      "metadata": {
        "id": "tjI3XUYwwaj4"
      },
      "source": [
        "#**B. Loading**"
      ]
    },
    {
      "cell_type": "markdown",
      "metadata": {
        "id": "Td4alT4w2XB9"
      },
      "source": [
        "##**B.1. Query from Google Cloud**"
      ]
    },
    {
      "cell_type": "markdown",
      "metadata": {
        "id": "gMz4nQu5y1dp"
      },
      "source": [
        "The data we are going to use is the Austin Waste and Diversion from Google Cloud BigQuery titled `bigquery-public-data.austin_waste.waste_and_diversion`."
      ]
    },
    {
      "cell_type": "markdown",
      "metadata": {
        "id": "ncBcPUAgyNid"
      },
      "source": [
        "We are told to limit our query on certain columns and time period. To extract the relevant data, we need to input a query in the Cloud console in SQL language."
      ]
    },
    {
      "cell_type": "code",
      "execution_count": 5,
      "metadata": {
        "colab": {
          "base_uri": "https://localhost:8080/",
          "height": 0
        },
        "id": "Ttze1BMnJgHY",
        "outputId": "02ea14c4-6f1e-478b-9b65-13b5c277c1e9"
      },
      "outputs": [
        {
          "data": {
            "application/vnd.google.colaboratory.intrinsic+json": {
              "type": "string"
            },
            "text/plain": [
              "'\\nselect report_date,load_time, load_type, load_weight, dropoff_site\\nfrom `bigquery-public-data.austin_waste.waste_and_diversion`\\nwhere report_date >= \"2021-01-01\" and report_date <= \\'2021-07-09\\';\\n'"
            ]
          },
          "execution_count": 5,
          "metadata": {},
          "output_type": "execute_result"
        }
      ],
      "source": [
        "\"\"\"\n",
        "select report_date,load_time, load_type, load_weight, dropoff_site\n",
        "from `bigquery-public-data.austin_waste.waste_and_diversion`\n",
        "where report_date >= \"2021-01-01\" and report_date <= '2021-07-09';\n",
        "\"\"\""
      ]
    },
    {
      "cell_type": "markdown",
      "metadata": {
        "id": "Q-vg3moAyuvB"
      },
      "source": [
        "The lines in the code are commented out because they are in SQL language which cannot be run on this Python notebook."
      ]
    },
    {
      "cell_type": "markdown",
      "metadata": {
        "id": "_V1Oe1gF0O9W"
      },
      "source": [
        "The queried data is then saved as .csv file."
      ]
    },
    {
      "cell_type": "markdown",
      "metadata": {
        "id": "qr6NM50Q2lLr"
      },
      "source": [
        "##**B.2. Read .csv file as dataframe variable**"
      ]
    },
    {
      "cell_type": "markdown",
      "metadata": {
        "id": "eOyV4afE0VLW"
      },
      "source": [
        "To read the .cdv file in Python notebook, we use the Pandas function to read it and assign into a variable called `df` for convenience."
      ]
    },
    {
      "cell_type": "code",
      "execution_count": 6,
      "metadata": {
        "id": "cntV7WKCd0tA"
      },
      "outputs": [],
      "source": [
        "df = pd.read_csv('https://raw.githubusercontent.com/IARahman/Austin-Waste-and-Diversion/main/h8dsft_P0GC2_Ihsan_aulia_Rahman.csv')"
      ]
    },
    {
      "cell_type": "markdown",
      "metadata": {
        "id": "8Vmlx8kzzcpM"
      },
      "source": [
        "#**C. Cleaning**"
      ]
    },
    {
      "cell_type": "markdown",
      "metadata": {
        "id": "hk5LDWUAo7Ps"
      },
      "source": [
        "##**C.1. Dropping null rows and optimizing data types**"
      ]
    },
    {
      "cell_type": "markdown",
      "metadata": {
        "id": "MXc6NSenawVv"
      },
      "source": [
        "Before we begin, let's remove unnecessary parts from our data. That is, rows that has `0` or `NaN` as a value. "
      ]
    },
    {
      "cell_type": "markdown",
      "metadata": {
        "id": "r_w2s3cqb5B8"
      },
      "source": [
        "Let's also optimize the data type of timestamp columns just in case we are going to do time related functions."
      ]
    },
    {
      "cell_type": "code",
      "execution_count": 7,
      "metadata": {
        "colab": {
          "base_uri": "https://localhost:8080/"
        },
        "id": "kYbyTOViWXWH",
        "outputId": "491cb612-0eef-44a6-f8f4-a77c6f045077"
      },
      "outputs": [
        {
          "name": "stdout",
          "output_type": "stream",
          "text": [
            "<class 'pandas.core.frame.DataFrame'>\n",
            "Int64Index: 25106 entries, 0 to 26156\n",
            "Data columns (total 5 columns):\n",
            " #   Column        Non-Null Count  Dtype              \n",
            "---  ------        --------------  -----              \n",
            " 0   report_date   25106 non-null  datetime64[ns]     \n",
            " 1   load_time     25106 non-null  datetime64[ns, UTC]\n",
            " 2   load_type     25106 non-null  object             \n",
            " 3   load_weight   25106 non-null  float64            \n",
            " 4   dropoff_site  25106 non-null  object             \n",
            "dtypes: datetime64[ns, UTC](1), datetime64[ns](1), float64(1), object(2)\n",
            "memory usage: 1.1+ MB\n"
          ]
        }
      ],
      "source": [
        "df.dropna(axis=0, inplace = True)\n",
        "df.drop(df[df[\"load_weight\"] == 0].index, inplace = True)\n",
        "df['report_date'] = pd.to_datetime(df[\"report_date\"])\n",
        "df['load_time'] = pd.to_datetime(df[\"load_time\"])\n",
        "df.info()"
      ]
    },
    {
      "cell_type": "markdown",
      "metadata": {
        "id": "i7J1FdRa2ASA"
      },
      "source": [
        "##**C.2. Initial Exploration**"
      ]
    },
    {
      "cell_type": "markdown",
      "metadata": {
        "id": "Nu3SD7IKbFsO"
      },
      "source": [
        "With this cleaned up data, we can proceed to explore our data a little."
      ]
    },
    {
      "cell_type": "markdown",
      "metadata": {
        "id": "V2JoiXmXocOm"
      },
      "source": [
        "###C.1.1. Checking the shape, head and tail of dataframe"
      ]
    },
    {
      "cell_type": "code",
      "execution_count": 8,
      "metadata": {
        "colab": {
          "base_uri": "https://localhost:8080/"
        },
        "id": "V49z_P2BxUhN",
        "outputId": "25bbe96f-8725-4c2e-ce30-9b15314089da"
      },
      "outputs": [
        {
          "name": "stdout",
          "output_type": "stream",
          "text": [
            "<class 'pandas.core.frame.DataFrame'>\n",
            "Int64Index: 25106 entries, 0 to 26156\n",
            "Data columns (total 5 columns):\n",
            " #   Column        Non-Null Count  Dtype              \n",
            "---  ------        --------------  -----              \n",
            " 0   report_date   25106 non-null  datetime64[ns]     \n",
            " 1   load_time     25106 non-null  datetime64[ns, UTC]\n",
            " 2   load_type     25106 non-null  object             \n",
            " 3   load_weight   25106 non-null  float64            \n",
            " 4   dropoff_site  25106 non-null  object             \n",
            "dtypes: datetime64[ns, UTC](1), datetime64[ns](1), float64(1), object(2)\n",
            "memory usage: 1.1+ MB\n"
          ]
        }
      ],
      "source": [
        "df.info()"
      ]
    },
    {
      "cell_type": "markdown",
      "metadata": {
        "id": "AqexL8bm1a3R"
      },
      "source": [
        "The data has 25106 rows and 5 columns."
      ]
    },
    {
      "cell_type": "code",
      "execution_count": 9,
      "metadata": {
        "colab": {
          "base_uri": "https://localhost:8080/",
          "height": 0
        },
        "id": "WdYJLL9Cchq9",
        "outputId": "cec5fd6c-9b21-489d-8d5c-b87a6174f3f4"
      },
      "outputs": [
        {
          "data": {
            "text/html": [
              "\n",
              "  <div id=\"df-f7566785-e05f-4a74-9d19-29a14ae9bee1\">\n",
              "    <div class=\"colab-df-container\">\n",
              "      <div>\n",
              "<style scoped>\n",
              "    .dataframe tbody tr th:only-of-type {\n",
              "        vertical-align: middle;\n",
              "    }\n",
              "\n",
              "    .dataframe tbody tr th {\n",
              "        vertical-align: top;\n",
              "    }\n",
              "\n",
              "    .dataframe thead th {\n",
              "        text-align: right;\n",
              "    }\n",
              "</style>\n",
              "<table border=\"1\" class=\"dataframe\">\n",
              "  <thead>\n",
              "    <tr style=\"text-align: right;\">\n",
              "      <th></th>\n",
              "      <th>report_date</th>\n",
              "      <th>load_time</th>\n",
              "      <th>load_type</th>\n",
              "      <th>load_weight</th>\n",
              "      <th>dropoff_site</th>\n",
              "    </tr>\n",
              "  </thead>\n",
              "  <tbody>\n",
              "    <tr>\n",
              "      <th>0</th>\n",
              "      <td>2021-07-08</td>\n",
              "      <td>2021-07-08 12:00:00+00:00</td>\n",
              "      <td>TIRES</td>\n",
              "      <td>2260.0</td>\n",
              "      <td>MRF</td>\n",
              "    </tr>\n",
              "    <tr>\n",
              "      <th>1</th>\n",
              "      <td>2021-07-08</td>\n",
              "      <td>2021-07-08 11:00:00+00:00</td>\n",
              "      <td>TIRES</td>\n",
              "      <td>1260.0</td>\n",
              "      <td>MRF</td>\n",
              "    </tr>\n",
              "    <tr>\n",
              "      <th>2</th>\n",
              "      <td>2021-07-08</td>\n",
              "      <td>2021-07-08 03:00:00+00:00</td>\n",
              "      <td>TIRES</td>\n",
              "      <td>800.0</td>\n",
              "      <td>MRF</td>\n",
              "    </tr>\n",
              "    <tr>\n",
              "      <th>3</th>\n",
              "      <td>2021-05-01</td>\n",
              "      <td>2021-05-01 12:29:00+00:00</td>\n",
              "      <td>TIRES</td>\n",
              "      <td>760.0</td>\n",
              "      <td>MRF</td>\n",
              "    </tr>\n",
              "    <tr>\n",
              "      <th>4</th>\n",
              "      <td>2021-07-03</td>\n",
              "      <td>2021-07-03 12:09:00+00:00</td>\n",
              "      <td>TIRES</td>\n",
              "      <td>1400.0</td>\n",
              "      <td>MRF</td>\n",
              "    </tr>\n",
              "  </tbody>\n",
              "</table>\n",
              "</div>\n",
              "      <button class=\"colab-df-convert\" onclick=\"convertToInteractive('df-f7566785-e05f-4a74-9d19-29a14ae9bee1')\"\n",
              "              title=\"Convert this dataframe to an interactive table.\"\n",
              "              style=\"display:none;\">\n",
              "        \n",
              "  <svg xmlns=\"http://www.w3.org/2000/svg\" height=\"24px\"viewBox=\"0 0 24 24\"\n",
              "       width=\"24px\">\n",
              "    <path d=\"M0 0h24v24H0V0z\" fill=\"none\"/>\n",
              "    <path d=\"M18.56 5.44l.94 2.06.94-2.06 2.06-.94-2.06-.94-.94-2.06-.94 2.06-2.06.94zm-11 1L8.5 8.5l.94-2.06 2.06-.94-2.06-.94L8.5 2.5l-.94 2.06-2.06.94zm10 10l.94 2.06.94-2.06 2.06-.94-2.06-.94-.94-2.06-.94 2.06-2.06.94z\"/><path d=\"M17.41 7.96l-1.37-1.37c-.4-.4-.92-.59-1.43-.59-.52 0-1.04.2-1.43.59L10.3 9.45l-7.72 7.72c-.78.78-.78 2.05 0 2.83L4 21.41c.39.39.9.59 1.41.59.51 0 1.02-.2 1.41-.59l7.78-7.78 2.81-2.81c.8-.78.8-2.07 0-2.86zM5.41 20L4 18.59l7.72-7.72 1.47 1.35L5.41 20z\"/>\n",
              "  </svg>\n",
              "      </button>\n",
              "      \n",
              "  <style>\n",
              "    .colab-df-container {\n",
              "      display:flex;\n",
              "      flex-wrap:wrap;\n",
              "      gap: 12px;\n",
              "    }\n",
              "\n",
              "    .colab-df-convert {\n",
              "      background-color: #E8F0FE;\n",
              "      border: none;\n",
              "      border-radius: 50%;\n",
              "      cursor: pointer;\n",
              "      display: none;\n",
              "      fill: #1967D2;\n",
              "      height: 32px;\n",
              "      padding: 0 0 0 0;\n",
              "      width: 32px;\n",
              "    }\n",
              "\n",
              "    .colab-df-convert:hover {\n",
              "      background-color: #E2EBFA;\n",
              "      box-shadow: 0px 1px 2px rgba(60, 64, 67, 0.3), 0px 1px 3px 1px rgba(60, 64, 67, 0.15);\n",
              "      fill: #174EA6;\n",
              "    }\n",
              "\n",
              "    [theme=dark] .colab-df-convert {\n",
              "      background-color: #3B4455;\n",
              "      fill: #D2E3FC;\n",
              "    }\n",
              "\n",
              "    [theme=dark] .colab-df-convert:hover {\n",
              "      background-color: #434B5C;\n",
              "      box-shadow: 0px 1px 3px 1px rgba(0, 0, 0, 0.15);\n",
              "      filter: drop-shadow(0px 1px 2px rgba(0, 0, 0, 0.3));\n",
              "      fill: #FFFFFF;\n",
              "    }\n",
              "  </style>\n",
              "\n",
              "      <script>\n",
              "        const buttonEl =\n",
              "          document.querySelector('#df-f7566785-e05f-4a74-9d19-29a14ae9bee1 button.colab-df-convert');\n",
              "        buttonEl.style.display =\n",
              "          google.colab.kernel.accessAllowed ? 'block' : 'none';\n",
              "\n",
              "        async function convertToInteractive(key) {\n",
              "          const element = document.querySelector('#df-f7566785-e05f-4a74-9d19-29a14ae9bee1');\n",
              "          const dataTable =\n",
              "            await google.colab.kernel.invokeFunction('convertToInteractive',\n",
              "                                                     [key], {});\n",
              "          if (!dataTable) return;\n",
              "\n",
              "          const docLinkHtml = 'Like what you see? Visit the ' +\n",
              "            '<a target=\"_blank\" href=https://colab.research.google.com/notebooks/data_table.ipynb>data table notebook</a>'\n",
              "            + ' to learn more about interactive tables.';\n",
              "          element.innerHTML = '';\n",
              "          dataTable['output_type'] = 'display_data';\n",
              "          await google.colab.output.renderOutput(dataTable, element);\n",
              "          const docLink = document.createElement('div');\n",
              "          docLink.innerHTML = docLinkHtml;\n",
              "          element.appendChild(docLink);\n",
              "        }\n",
              "      </script>\n",
              "    </div>\n",
              "  </div>\n",
              "  "
            ],
            "text/plain": [
              "  report_date                 load_time load_type  load_weight dropoff_site\n",
              "0  2021-07-08 2021-07-08 12:00:00+00:00     TIRES       2260.0          MRF\n",
              "1  2021-07-08 2021-07-08 11:00:00+00:00     TIRES       1260.0          MRF\n",
              "2  2021-07-08 2021-07-08 03:00:00+00:00     TIRES        800.0          MRF\n",
              "3  2021-05-01 2021-05-01 12:29:00+00:00     TIRES        760.0          MRF\n",
              "4  2021-07-03 2021-07-03 12:09:00+00:00     TIRES       1400.0          MRF"
            ]
          },
          "execution_count": 9,
          "metadata": {},
          "output_type": "execute_result"
        }
      ],
      "source": [
        "df.head()"
      ]
    },
    {
      "cell_type": "code",
      "execution_count": 10,
      "metadata": {
        "colab": {
          "base_uri": "https://localhost:8080/",
          "height": 0
        },
        "id": "SHeAB9qBcnFC",
        "outputId": "153f5441-240d-456f-c166-f290c1359320"
      },
      "outputs": [
        {
          "data": {
            "text/html": [
              "\n",
              "  <div id=\"df-28c112fa-c340-41a1-8043-d50f8c60b6dc\">\n",
              "    <div class=\"colab-df-container\">\n",
              "      <div>\n",
              "<style scoped>\n",
              "    .dataframe tbody tr th:only-of-type {\n",
              "        vertical-align: middle;\n",
              "    }\n",
              "\n",
              "    .dataframe tbody tr th {\n",
              "        vertical-align: top;\n",
              "    }\n",
              "\n",
              "    .dataframe thead th {\n",
              "        text-align: right;\n",
              "    }\n",
              "</style>\n",
              "<table border=\"1\" class=\"dataframe\">\n",
              "  <thead>\n",
              "    <tr style=\"text-align: right;\">\n",
              "      <th></th>\n",
              "      <th>report_date</th>\n",
              "      <th>load_time</th>\n",
              "      <th>load_type</th>\n",
              "      <th>load_weight</th>\n",
              "      <th>dropoff_site</th>\n",
              "    </tr>\n",
              "  </thead>\n",
              "  <tbody>\n",
              "    <tr>\n",
              "      <th>26152</th>\n",
              "      <td>2021-03-01</td>\n",
              "      <td>2021-03-01 11:26:00+00:00</td>\n",
              "      <td>ORGANICS</td>\n",
              "      <td>12100.0</td>\n",
              "      <td>ORGANICS BY GOSH</td>\n",
              "    </tr>\n",
              "    <tr>\n",
              "      <th>26153</th>\n",
              "      <td>2021-03-01</td>\n",
              "      <td>2021-03-01 04:27:00+00:00</td>\n",
              "      <td>ORGANICS</td>\n",
              "      <td>10900.0</td>\n",
              "      <td>ORGANICS BY GOSH</td>\n",
              "    </tr>\n",
              "    <tr>\n",
              "      <th>26154</th>\n",
              "      <td>2021-03-01</td>\n",
              "      <td>2021-03-01 05:55:00+00:00</td>\n",
              "      <td>ORGANICS</td>\n",
              "      <td>21800.0</td>\n",
              "      <td>ORGANICS BY GOSH</td>\n",
              "    </tr>\n",
              "    <tr>\n",
              "      <th>26155</th>\n",
              "      <td>2021-03-01</td>\n",
              "      <td>2021-03-02 01:10:00+00:00</td>\n",
              "      <td>ORGANICS</td>\n",
              "      <td>5640.0</td>\n",
              "      <td>ORGANICS BY GOSH</td>\n",
              "    </tr>\n",
              "    <tr>\n",
              "      <th>26156</th>\n",
              "      <td>2021-03-01</td>\n",
              "      <td>2021-03-01 10:22:00+00:00</td>\n",
              "      <td>RECYCLED METAL</td>\n",
              "      <td>360.0</td>\n",
              "      <td>AUSTIN IRON AND METAL</td>\n",
              "    </tr>\n",
              "  </tbody>\n",
              "</table>\n",
              "</div>\n",
              "      <button class=\"colab-df-convert\" onclick=\"convertToInteractive('df-28c112fa-c340-41a1-8043-d50f8c60b6dc')\"\n",
              "              title=\"Convert this dataframe to an interactive table.\"\n",
              "              style=\"display:none;\">\n",
              "        \n",
              "  <svg xmlns=\"http://www.w3.org/2000/svg\" height=\"24px\"viewBox=\"0 0 24 24\"\n",
              "       width=\"24px\">\n",
              "    <path d=\"M0 0h24v24H0V0z\" fill=\"none\"/>\n",
              "    <path d=\"M18.56 5.44l.94 2.06.94-2.06 2.06-.94-2.06-.94-.94-2.06-.94 2.06-2.06.94zm-11 1L8.5 8.5l.94-2.06 2.06-.94-2.06-.94L8.5 2.5l-.94 2.06-2.06.94zm10 10l.94 2.06.94-2.06 2.06-.94-2.06-.94-.94-2.06-.94 2.06-2.06.94z\"/><path d=\"M17.41 7.96l-1.37-1.37c-.4-.4-.92-.59-1.43-.59-.52 0-1.04.2-1.43.59L10.3 9.45l-7.72 7.72c-.78.78-.78 2.05 0 2.83L4 21.41c.39.39.9.59 1.41.59.51 0 1.02-.2 1.41-.59l7.78-7.78 2.81-2.81c.8-.78.8-2.07 0-2.86zM5.41 20L4 18.59l7.72-7.72 1.47 1.35L5.41 20z\"/>\n",
              "  </svg>\n",
              "      </button>\n",
              "      \n",
              "  <style>\n",
              "    .colab-df-container {\n",
              "      display:flex;\n",
              "      flex-wrap:wrap;\n",
              "      gap: 12px;\n",
              "    }\n",
              "\n",
              "    .colab-df-convert {\n",
              "      background-color: #E8F0FE;\n",
              "      border: none;\n",
              "      border-radius: 50%;\n",
              "      cursor: pointer;\n",
              "      display: none;\n",
              "      fill: #1967D2;\n",
              "      height: 32px;\n",
              "      padding: 0 0 0 0;\n",
              "      width: 32px;\n",
              "    }\n",
              "\n",
              "    .colab-df-convert:hover {\n",
              "      background-color: #E2EBFA;\n",
              "      box-shadow: 0px 1px 2px rgba(60, 64, 67, 0.3), 0px 1px 3px 1px rgba(60, 64, 67, 0.15);\n",
              "      fill: #174EA6;\n",
              "    }\n",
              "\n",
              "    [theme=dark] .colab-df-convert {\n",
              "      background-color: #3B4455;\n",
              "      fill: #D2E3FC;\n",
              "    }\n",
              "\n",
              "    [theme=dark] .colab-df-convert:hover {\n",
              "      background-color: #434B5C;\n",
              "      box-shadow: 0px 1px 3px 1px rgba(0, 0, 0, 0.15);\n",
              "      filter: drop-shadow(0px 1px 2px rgba(0, 0, 0, 0.3));\n",
              "      fill: #FFFFFF;\n",
              "    }\n",
              "  </style>\n",
              "\n",
              "      <script>\n",
              "        const buttonEl =\n",
              "          document.querySelector('#df-28c112fa-c340-41a1-8043-d50f8c60b6dc button.colab-df-convert');\n",
              "        buttonEl.style.display =\n",
              "          google.colab.kernel.accessAllowed ? 'block' : 'none';\n",
              "\n",
              "        async function convertToInteractive(key) {\n",
              "          const element = document.querySelector('#df-28c112fa-c340-41a1-8043-d50f8c60b6dc');\n",
              "          const dataTable =\n",
              "            await google.colab.kernel.invokeFunction('convertToInteractive',\n",
              "                                                     [key], {});\n",
              "          if (!dataTable) return;\n",
              "\n",
              "          const docLinkHtml = 'Like what you see? Visit the ' +\n",
              "            '<a target=\"_blank\" href=https://colab.research.google.com/notebooks/data_table.ipynb>data table notebook</a>'\n",
              "            + ' to learn more about interactive tables.';\n",
              "          element.innerHTML = '';\n",
              "          dataTable['output_type'] = 'display_data';\n",
              "          await google.colab.output.renderOutput(dataTable, element);\n",
              "          const docLink = document.createElement('div');\n",
              "          docLink.innerHTML = docLinkHtml;\n",
              "          element.appendChild(docLink);\n",
              "        }\n",
              "      </script>\n",
              "    </div>\n",
              "  </div>\n",
              "  "
            ],
            "text/plain": [
              "      report_date                 load_time       load_type  load_weight  \\\n",
              "26152  2021-03-01 2021-03-01 11:26:00+00:00        ORGANICS      12100.0   \n",
              "26153  2021-03-01 2021-03-01 04:27:00+00:00        ORGANICS      10900.0   \n",
              "26154  2021-03-01 2021-03-01 05:55:00+00:00        ORGANICS      21800.0   \n",
              "26155  2021-03-01 2021-03-02 01:10:00+00:00        ORGANICS       5640.0   \n",
              "26156  2021-03-01 2021-03-01 10:22:00+00:00  RECYCLED METAL        360.0   \n",
              "\n",
              "                dropoff_site  \n",
              "26152       ORGANICS BY GOSH  \n",
              "26153       ORGANICS BY GOSH  \n",
              "26154       ORGANICS BY GOSH  \n",
              "26155       ORGANICS BY GOSH  \n",
              "26156  AUSTIN IRON AND METAL  "
            ]
          },
          "execution_count": 10,
          "metadata": {},
          "output_type": "execute_result"
        }
      ],
      "source": [
        "df.tail()"
      ]
    },
    {
      "cell_type": "markdown",
      "metadata": {
        "id": "0sU0zrKrcu59"
      },
      "source": [
        "It looks like `report_date` and `load_time` columns are not synchronized. We'll continue referring to `report_date` from here on."
      ]
    },
    {
      "cell_type": "markdown",
      "metadata": {
        "id": "LETl46H7WyZi"
      },
      "source": [
        "###C.1.2. Checking range and unique values in columns"
      ]
    },
    {
      "cell_type": "code",
      "execution_count": 11,
      "metadata": {
        "colab": {
          "base_uri": "https://localhost:8080/"
        },
        "id": "diMz7VbsW_AP",
        "outputId": "d85c1a69-5b16-4437-8f54-6c76b0af4b0b"
      },
      "outputs": [
        {
          "data": {
            "text/plain": [
              "min   2021-01-02\n",
              "max   2021-07-09\n",
              "Name: report_date, dtype: datetime64[ns]"
            ]
          },
          "execution_count": 11,
          "metadata": {},
          "output_type": "execute_result"
        }
      ],
      "source": [
        "df['report_date'].agg((\"min\", \"max\"))"
      ]
    },
    {
      "cell_type": "code",
      "execution_count": 12,
      "metadata": {
        "colab": {
          "base_uri": "https://localhost:8080/"
        },
        "id": "B0spNYdGXTFy",
        "outputId": "187ce21c-350f-4fcf-97a5-b4bed40812d4"
      },
      "outputs": [
        {
          "data": {
            "text/plain": [
              "min   2020-06-27 01:00:00+00:00\n",
              "max   2021-07-11 07:07:45+00:00\n",
              "Name: load_time, dtype: datetime64[ns, UTC]"
            ]
          },
          "execution_count": 12,
          "metadata": {},
          "output_type": "execute_result"
        }
      ],
      "source": [
        "df['load_time'].agg((\"min\", \"max\"))"
      ]
    },
    {
      "cell_type": "markdown",
      "metadata": {
        "id": "CAohJnl1bgRa"
      },
      "source": [
        "We already know that `report_date` and `load_time` columns are not synchronized."
      ]
    },
    {
      "cell_type": "code",
      "execution_count": 13,
      "metadata": {
        "colab": {
          "base_uri": "https://localhost:8080/"
        },
        "id": "QJsNqw_-dZaP",
        "outputId": "722fd516-968d-47f8-9977-b39e2d63b98e"
      },
      "outputs": [
        {
          "data": {
            "text/plain": [
              "14"
            ]
          },
          "execution_count": 13,
          "metadata": {},
          "output_type": "execute_result"
        }
      ],
      "source": [
        "df['load_type'].nunique()"
      ]
    },
    {
      "cell_type": "code",
      "execution_count": 14,
      "metadata": {
        "colab": {
          "base_uri": "https://localhost:8080/"
        },
        "id": "YsKf93QMdR6N",
        "outputId": "72164347-983f-4754-96d8-67dbdbd3a44e"
      },
      "outputs": [
        {
          "data": {
            "text/plain": [
              "GARBAGE COLLECTIONS          8241\n",
              "RECYCLING - SINGLE STREAM    6760\n",
              "ORGANICS                     5749\n",
              "BULK                         1594\n",
              "BRUSH                        1514\n",
              "SWEEPING                      360\n",
              "MIXED LITTER                  326\n",
              "TIRES                         175\n",
              "DEAD ANIMAL                   150\n",
              "YARD TRIMMING                 137\n",
              "RECYCLED METAL                 57\n",
              "LITTER                         41\n",
              "CONTAMINATED RECYCLING          1\n",
              "CONTAMINATED ORGANICS           1\n",
              "Name: load_type, dtype: int64"
            ]
          },
          "execution_count": 14,
          "metadata": {},
          "output_type": "execute_result"
        }
      ],
      "source": [
        "df['load_type'].value_counts()"
      ]
    },
    {
      "cell_type": "markdown",
      "metadata": {
        "id": "3KIefW6qOZlg"
      },
      "source": [
        "There are 14 types of waste processed in Austin"
      ]
    },
    {
      "cell_type": "code",
      "execution_count": 15,
      "metadata": {
        "colab": {
          "base_uri": "https://localhost:8080/"
        },
        "id": "Puuf-VfpVsKi",
        "outputId": "130ebedc-27e8-4405-c656-80d374bf44ab"
      },
      "outputs": [
        {
          "data": {
            "text/plain": [
              "min         0.1164\n",
              "max    245540.0000\n",
              "Name: load_weight, dtype: float64"
            ]
          },
          "execution_count": 15,
          "metadata": {},
          "output_type": "execute_result"
        }
      ],
      "source": [
        "df['load_weight'].agg((\"min\", \"max\"))"
      ]
    },
    {
      "cell_type": "markdown",
      "metadata": {
        "id": "Lq5vZ3eTPA5a"
      },
      "source": [
        "There is a load that only weights 0.1 lbs. It is most likely an outlier"
      ]
    },
    {
      "cell_type": "code",
      "execution_count": 16,
      "metadata": {
        "colab": {
          "base_uri": "https://localhost:8080/"
        },
        "id": "WoWdCS3tdpkw",
        "outputId": "c9b43bc7-0d40-4f5e-f774-2dff2109ebb7"
      },
      "outputs": [
        {
          "data": {
            "text/plain": [
              "14"
            ]
          },
          "execution_count": 16,
          "metadata": {},
          "output_type": "execute_result"
        }
      ],
      "source": [
        "df['dropoff_site'].nunique()"
      ]
    },
    {
      "cell_type": "markdown",
      "metadata": {
        "id": "MB5ZJDD5JLIX"
      },
      "source": [
        "There are 14 dumping sites serving Austin."
      ]
    },
    {
      "cell_type": "markdown",
      "metadata": {
        "id": "enpCA0cPwOeu"
      },
      "source": [
        "#**D. Central Tendency of Each Sites**"
      ]
    },
    {
      "cell_type": "markdown",
      "metadata": {
        "id": "nA8SNIy6LxC1"
      },
      "source": [
        "Let's take a look of the data on each sites"
      ]
    },
    {
      "cell_type": "markdown",
      "metadata": {
        "id": "IzwDr8EwckFE"
      },
      "source": [
        "##**D.1. Site descriptions**"
      ]
    },
    {
      "cell_type": "code",
      "execution_count": 17,
      "metadata": {
        "colab": {
          "base_uri": "https://localhost:8080/"
        },
        "id": "dysGrs1a8Nzg",
        "outputId": "0b8deab9-b2e8-4194-ec9e-ef4972b79aa7"
      },
      "outputs": [
        {
          "data": {
            "text/plain": [
              "TDS LANDFILL             10688\n",
              "ORGANICS BY GOSH          5741\n",
              "BALCONES RECYCLING        3837\n",
              "TDS - MRF                 2948\n",
              "HORNSBY BEND              1652\n",
              "MRF                        168\n",
              "AUSTIN IRON AND METAL       50\n",
              "ON ROUTE HIGH DUMP           7\n",
              "GREAT NORTHERN               6\n",
              "PARK BEND                    4\n",
              "AUSTIN WOOD RECYCLING        2\n",
              "BALCONES WOODS               1\n",
              "STEINER LANDFILL             1\n",
              "WESTFIELD                    1\n",
              "Name: dropoff_site, dtype: int64"
            ]
          },
          "execution_count": 17,
          "metadata": {},
          "output_type": "execute_result"
        }
      ],
      "source": [
        "df['dropoff_site'].value_counts()"
      ]
    },
    {
      "cell_type": "code",
      "execution_count": 18,
      "metadata": {
        "colab": {
          "base_uri": "https://localhost:8080/",
          "height": 0
        },
        "id": "VfvdgfhNM2Sr",
        "outputId": "9e53b821-a2a9-4123-ea7b-37ba3e68c53c"
      },
      "outputs": [
        {
          "data": {
            "text/html": [
              "\n",
              "  <div id=\"df-6aa7bf73-ee67-4e3b-9707-845dbb9e4133\">\n",
              "    <div class=\"colab-df-container\">\n",
              "      <div>\n",
              "<style scoped>\n",
              "    .dataframe tbody tr th:only-of-type {\n",
              "        vertical-align: middle;\n",
              "    }\n",
              "\n",
              "    .dataframe tbody tr th {\n",
              "        vertical-align: top;\n",
              "    }\n",
              "\n",
              "    .dataframe thead th {\n",
              "        text-align: right;\n",
              "    }\n",
              "</style>\n",
              "<table border=\"1\" class=\"dataframe\">\n",
              "  <thead>\n",
              "    <tr style=\"text-align: right;\">\n",
              "      <th></th>\n",
              "      <th>Average</th>\n",
              "      <th>Median</th>\n",
              "      <th>Mode</th>\n",
              "      <th>Total</th>\n",
              "    </tr>\n",
              "    <tr>\n",
              "      <th>dropoff_site</th>\n",
              "      <th></th>\n",
              "      <th></th>\n",
              "      <th></th>\n",
              "      <th></th>\n",
              "    </tr>\n",
              "  </thead>\n",
              "  <tbody>\n",
              "    <tr>\n",
              "      <th>AUSTIN IRON AND METAL</th>\n",
              "      <td>451.200000</td>\n",
              "      <td>400.0</td>\n",
              "      <td>([260.0], [3])</td>\n",
              "      <td>2.256000e+04</td>\n",
              "    </tr>\n",
              "    <tr>\n",
              "      <th>AUSTIN WOOD RECYCLING</th>\n",
              "      <td>4050.000000</td>\n",
              "      <td>4050.0</td>\n",
              "      <td>([2340.0], [1])</td>\n",
              "      <td>8.100000e+03</td>\n",
              "    </tr>\n",
              "    <tr>\n",
              "      <th>BALCONES RECYCLING</th>\n",
              "      <td>9464.652072</td>\n",
              "      <td>9840.0</td>\n",
              "      <td>([11880.0], [22])</td>\n",
              "      <td>3.631587e+07</td>\n",
              "    </tr>\n",
              "    <tr>\n",
              "      <th>BALCONES WOODS</th>\n",
              "      <td>8460.000000</td>\n",
              "      <td>8460.0</td>\n",
              "      <td>([8460.0], [1])</td>\n",
              "      <td>8.460000e+03</td>\n",
              "    </tr>\n",
              "    <tr>\n",
              "      <th>GREAT NORTHERN</th>\n",
              "      <td>19153.333333</td>\n",
              "      <td>21110.0</td>\n",
              "      <td>([8700.0], [1])</td>\n",
              "      <td>1.149200e+05</td>\n",
              "    </tr>\n",
              "    <tr>\n",
              "      <th>HORNSBY BEND</th>\n",
              "      <td>6628.644068</td>\n",
              "      <td>6390.0</td>\n",
              "      <td>([5500.0], [47])</td>\n",
              "      <td>1.095052e+07</td>\n",
              "    </tr>\n",
              "    <tr>\n",
              "      <th>MRF</th>\n",
              "      <td>1799.982143</td>\n",
              "      <td>1360.0</td>\n",
              "      <td>([960.0], [5])</td>\n",
              "      <td>3.023970e+05</td>\n",
              "    </tr>\n",
              "    <tr>\n",
              "      <th>ON ROUTE HIGH DUMP</th>\n",
              "      <td>12525.714286</td>\n",
              "      <td>14940.0</td>\n",
              "      <td>([4060.0], [1])</td>\n",
              "      <td>8.768000e+04</td>\n",
              "    </tr>\n",
              "    <tr>\n",
              "      <th>ORGANICS BY GOSH</th>\n",
              "      <td>11818.482146</td>\n",
              "      <td>11920.0</td>\n",
              "      <td>([14580.0], [17])</td>\n",
              "      <td>6.784991e+07</td>\n",
              "    </tr>\n",
              "    <tr>\n",
              "      <th>PARK BEND</th>\n",
              "      <td>13385.000000</td>\n",
              "      <td>12330.0</td>\n",
              "      <td>([8480.0], [1])</td>\n",
              "      <td>5.354000e+04</td>\n",
              "    </tr>\n",
              "    <tr>\n",
              "      <th>STEINER LANDFILL</th>\n",
              "      <td>780.000000</td>\n",
              "      <td>780.0</td>\n",
              "      <td>([780.0], [1])</td>\n",
              "      <td>7.800000e+02</td>\n",
              "    </tr>\n",
              "    <tr>\n",
              "      <th>TDS - MRF</th>\n",
              "      <td>9872.550882</td>\n",
              "      <td>10330.0</td>\n",
              "      <td>([10360.0], [16])</td>\n",
              "      <td>2.910428e+07</td>\n",
              "    </tr>\n",
              "    <tr>\n",
              "      <th>TDS LANDFILL</th>\n",
              "      <td>15173.665095</td>\n",
              "      <td>14920.0</td>\n",
              "      <td>([20.0], [21])</td>\n",
              "      <td>1.621761e+08</td>\n",
              "    </tr>\n",
              "    <tr>\n",
              "      <th>WESTFIELD</th>\n",
              "      <td>16020.000000</td>\n",
              "      <td>16020.0</td>\n",
              "      <td>([16020.0], [1])</td>\n",
              "      <td>1.602000e+04</td>\n",
              "    </tr>\n",
              "  </tbody>\n",
              "</table>\n",
              "</div>\n",
              "      <button class=\"colab-df-convert\" onclick=\"convertToInteractive('df-6aa7bf73-ee67-4e3b-9707-845dbb9e4133')\"\n",
              "              title=\"Convert this dataframe to an interactive table.\"\n",
              "              style=\"display:none;\">\n",
              "        \n",
              "  <svg xmlns=\"http://www.w3.org/2000/svg\" height=\"24px\"viewBox=\"0 0 24 24\"\n",
              "       width=\"24px\">\n",
              "    <path d=\"M0 0h24v24H0V0z\" fill=\"none\"/>\n",
              "    <path d=\"M18.56 5.44l.94 2.06.94-2.06 2.06-.94-2.06-.94-.94-2.06-.94 2.06-2.06.94zm-11 1L8.5 8.5l.94-2.06 2.06-.94-2.06-.94L8.5 2.5l-.94 2.06-2.06.94zm10 10l.94 2.06.94-2.06 2.06-.94-2.06-.94-.94-2.06-.94 2.06-2.06.94z\"/><path d=\"M17.41 7.96l-1.37-1.37c-.4-.4-.92-.59-1.43-.59-.52 0-1.04.2-1.43.59L10.3 9.45l-7.72 7.72c-.78.78-.78 2.05 0 2.83L4 21.41c.39.39.9.59 1.41.59.51 0 1.02-.2 1.41-.59l7.78-7.78 2.81-2.81c.8-.78.8-2.07 0-2.86zM5.41 20L4 18.59l7.72-7.72 1.47 1.35L5.41 20z\"/>\n",
              "  </svg>\n",
              "      </button>\n",
              "      \n",
              "  <style>\n",
              "    .colab-df-container {\n",
              "      display:flex;\n",
              "      flex-wrap:wrap;\n",
              "      gap: 12px;\n",
              "    }\n",
              "\n",
              "    .colab-df-convert {\n",
              "      background-color: #E8F0FE;\n",
              "      border: none;\n",
              "      border-radius: 50%;\n",
              "      cursor: pointer;\n",
              "      display: none;\n",
              "      fill: #1967D2;\n",
              "      height: 32px;\n",
              "      padding: 0 0 0 0;\n",
              "      width: 32px;\n",
              "    }\n",
              "\n",
              "    .colab-df-convert:hover {\n",
              "      background-color: #E2EBFA;\n",
              "      box-shadow: 0px 1px 2px rgba(60, 64, 67, 0.3), 0px 1px 3px 1px rgba(60, 64, 67, 0.15);\n",
              "      fill: #174EA6;\n",
              "    }\n",
              "\n",
              "    [theme=dark] .colab-df-convert {\n",
              "      background-color: #3B4455;\n",
              "      fill: #D2E3FC;\n",
              "    }\n",
              "\n",
              "    [theme=dark] .colab-df-convert:hover {\n",
              "      background-color: #434B5C;\n",
              "      box-shadow: 0px 1px 3px 1px rgba(0, 0, 0, 0.15);\n",
              "      filter: drop-shadow(0px 1px 2px rgba(0, 0, 0, 0.3));\n",
              "      fill: #FFFFFF;\n",
              "    }\n",
              "  </style>\n",
              "\n",
              "      <script>\n",
              "        const buttonEl =\n",
              "          document.querySelector('#df-6aa7bf73-ee67-4e3b-9707-845dbb9e4133 button.colab-df-convert');\n",
              "        buttonEl.style.display =\n",
              "          google.colab.kernel.accessAllowed ? 'block' : 'none';\n",
              "\n",
              "        async function convertToInteractive(key) {\n",
              "          const element = document.querySelector('#df-6aa7bf73-ee67-4e3b-9707-845dbb9e4133');\n",
              "          const dataTable =\n",
              "            await google.colab.kernel.invokeFunction('convertToInteractive',\n",
              "                                                     [key], {});\n",
              "          if (!dataTable) return;\n",
              "\n",
              "          const docLinkHtml = 'Like what you see? Visit the ' +\n",
              "            '<a target=\"_blank\" href=https://colab.research.google.com/notebooks/data_table.ipynb>data table notebook</a>'\n",
              "            + ' to learn more about interactive tables.';\n",
              "          element.innerHTML = '';\n",
              "          dataTable['output_type'] = 'display_data';\n",
              "          await google.colab.output.renderOutput(dataTable, element);\n",
              "          const docLink = document.createElement('div');\n",
              "          docLink.innerHTML = docLinkHtml;\n",
              "          element.appendChild(docLink);\n",
              "        }\n",
              "      </script>\n",
              "    </div>\n",
              "  </div>\n",
              "  "
            ],
            "text/plain": [
              "                            Average   Median               Mode         Total\n",
              "dropoff_site                                                                 \n",
              "AUSTIN IRON AND METAL    451.200000    400.0     ([260.0], [3])  2.256000e+04\n",
              "AUSTIN WOOD RECYCLING   4050.000000   4050.0    ([2340.0], [1])  8.100000e+03\n",
              "BALCONES RECYCLING      9464.652072   9840.0  ([11880.0], [22])  3.631587e+07\n",
              "BALCONES WOODS          8460.000000   8460.0    ([8460.0], [1])  8.460000e+03\n",
              "GREAT NORTHERN         19153.333333  21110.0    ([8700.0], [1])  1.149200e+05\n",
              "HORNSBY BEND            6628.644068   6390.0   ([5500.0], [47])  1.095052e+07\n",
              "MRF                     1799.982143   1360.0     ([960.0], [5])  3.023970e+05\n",
              "ON ROUTE HIGH DUMP     12525.714286  14940.0    ([4060.0], [1])  8.768000e+04\n",
              "ORGANICS BY GOSH       11818.482146  11920.0  ([14580.0], [17])  6.784991e+07\n",
              "PARK BEND              13385.000000  12330.0    ([8480.0], [1])  5.354000e+04\n",
              "STEINER LANDFILL         780.000000    780.0     ([780.0], [1])  7.800000e+02\n",
              "TDS - MRF               9872.550882  10330.0  ([10360.0], [16])  2.910428e+07\n",
              "TDS LANDFILL           15173.665095  14920.0     ([20.0], [21])  1.621761e+08\n",
              "WESTFIELD              16020.000000  16020.0   ([16020.0], [1])  1.602000e+04"
            ]
          },
          "execution_count": 18,
          "metadata": {},
          "output_type": "execute_result"
        }
      ],
      "source": [
        "np.set_printoptions(suppress=True)\n",
        "df.groupby('dropoff_site').agg(Average=('load_weight',np.mean),\n",
        "                               Median =('load_weight',np.median),\n",
        "                               Mode   =('load_weight',stats.mode),\n",
        "                               Total  =('load_weight',np.sum))"
      ]
    },
    {
      "cell_type": "markdown",
      "metadata": {
        "id": "FoZxa5qXda_p"
      },
      "source": [
        "##**D.2. Load types from selected sites**"
      ]
    },
    {
      "cell_type": "code",
      "execution_count": 19,
      "metadata": {
        "colab": {
          "base_uri": "https://localhost:8080/"
        },
        "id": "6KZ8B4bxoFfw",
        "outputId": "6d167d6c-2b37-48a2-8a63-c5fdf001d651"
      },
      "outputs": [
        {
          "data": {
            "text/plain": [
              "GARBAGE COLLECTIONS          8203\n",
              "BULK                         1590\n",
              "SWEEPING                      358\n",
              "MIXED LITTER                  326\n",
              "DEAD ANIMAL                   131\n",
              "LITTER                         40\n",
              "ORGANICS                       22\n",
              "TIRES                          10\n",
              "RECYCLING - SINGLE STREAM       3\n",
              "BRUSH                           2\n",
              "CONTAMINATED RECYCLING          1\n",
              "CONTAMINATED ORGANICS           1\n",
              "RECYCLED METAL                  1\n",
              "Name: load_type, dtype: int64"
            ]
          },
          "execution_count": 19,
          "metadata": {},
          "output_type": "execute_result"
        }
      ],
      "source": [
        "df.loc[df['dropoff_site']=='TDS LANDFILL']['load_type'].value_counts()"
      ]
    },
    {
      "cell_type": "code",
      "execution_count": 20,
      "metadata": {
        "colab": {
          "base_uri": "https://localhost:8080/"
        },
        "id": "bo3IX4QwoqsS",
        "outputId": "93065041-3e01-4e6b-a283-5ffaa3d05ad9"
      },
      "outputs": [
        {
          "data": {
            "text/plain": [
              "ORGANICS               5714\n",
              "DEAD ANIMAL              19\n",
              "RECYCLED METAL            5\n",
              "SWEEPING                  2\n",
              "GARBAGE COLLECTIONS       1\n",
              "Name: load_type, dtype: int64"
            ]
          },
          "execution_count": 20,
          "metadata": {},
          "output_type": "execute_result"
        }
      ],
      "source": [
        "df.loc[df['dropoff_site']=='ORGANICS BY GOSH']['load_type'].value_counts()"
      ]
    },
    {
      "cell_type": "code",
      "execution_count": 21,
      "metadata": {
        "colab": {
          "base_uri": "https://localhost:8080/"
        },
        "id": "jiPqeFxVoykr",
        "outputId": "e3d95d25-e2ae-4b5f-f6c7-3e64a977cd9d"
      },
      "outputs": [
        {
          "data": {
            "text/plain": [
              "RECYCLING - SINGLE STREAM    2917\n",
              "GARBAGE COLLECTIONS            28\n",
              "BULK                            2\n",
              "LITTER                          1\n",
              "Name: load_type, dtype: int64"
            ]
          },
          "execution_count": 21,
          "metadata": {},
          "output_type": "execute_result"
        }
      ],
      "source": [
        "df.loc[df['dropoff_site']=='TDS - MRF']['load_type'].value_counts()"
      ]
    },
    {
      "cell_type": "markdown",
      "metadata": {
        "id": "cLeg3N3Ado0z"
      },
      "source": [
        "##**D.3. Findings**"
      ]
    },
    {
      "cell_type": "markdown",
      "metadata": {
        "id": "o2pReescT9fE"
      },
      "source": [
        "From the table produced from the data, we can see that Great Northern had the highest average load weight at 21 thousand lbs at every load. However, that site only receive loads intermittently and rank among the lowest total load intake. \n",
        "\n",
        "Texas Disposal System Landfill had only more than 15 thousand lbs per load on average but took more than 10 thousand loads resulting in total 162 million lbs of waste processed there. TDSL processed the highest amount of waste between other sites by a long margin. \n",
        "\n",
        "Moreover, unlike other sites that specialize on specific type of waste, TDSL processes more general load types collected from the city.\n",
        "\n",
        "Those would be our background to examine this particular site further."
      ]
    },
    {
      "cell_type": "markdown",
      "metadata": {
        "id": "NfuJtEz-zkdZ"
      },
      "source": [
        "#**E. Examining TDS Landfill**"
      ]
    },
    {
      "cell_type": "markdown",
      "metadata": {
        "id": "nLnUoAJZebzC"
      },
      "source": [
        "##**E.1. Raw statistics**"
      ]
    },
    {
      "cell_type": "markdown",
      "metadata": {
        "id": "3A4ub94Pd0E9"
      },
      "source": [
        "Let's take another look again at TDSL's load statistics."
      ]
    },
    {
      "cell_type": "code",
      "execution_count": 22,
      "metadata": {
        "colab": {
          "base_uri": "https://localhost:8080/",
          "height": 0
        },
        "id": "yW5k9xE3TJmM",
        "outputId": "72bb5ffc-ab93-40ec-ed6b-463e2f4bbb61"
      },
      "outputs": [
        {
          "data": {
            "text/html": [
              "\n",
              "  <div id=\"df-afa1c762-6f83-437e-9f8f-4fcba888a0bd\">\n",
              "    <div class=\"colab-df-container\">\n",
              "      <div>\n",
              "<style scoped>\n",
              "    .dataframe tbody tr th:only-of-type {\n",
              "        vertical-align: middle;\n",
              "    }\n",
              "\n",
              "    .dataframe tbody tr th {\n",
              "        vertical-align: top;\n",
              "    }\n",
              "\n",
              "    .dataframe thead th {\n",
              "        text-align: right;\n",
              "    }\n",
              "</style>\n",
              "<table border=\"1\" class=\"dataframe\">\n",
              "  <thead>\n",
              "    <tr style=\"text-align: right;\">\n",
              "      <th></th>\n",
              "      <th>Average</th>\n",
              "      <th>Median</th>\n",
              "      <th>Mode</th>\n",
              "      <th>Total</th>\n",
              "    </tr>\n",
              "    <tr>\n",
              "      <th>dropoff_site</th>\n",
              "      <th></th>\n",
              "      <th></th>\n",
              "      <th></th>\n",
              "      <th></th>\n",
              "    </tr>\n",
              "  </thead>\n",
              "  <tbody>\n",
              "    <tr>\n",
              "      <th>TDS LANDFILL</th>\n",
              "      <td>15173.665095</td>\n",
              "      <td>14920.0</td>\n",
              "      <td>([20.0], [21])</td>\n",
              "      <td>1.621761e+08</td>\n",
              "    </tr>\n",
              "  </tbody>\n",
              "</table>\n",
              "</div>\n",
              "      <button class=\"colab-df-convert\" onclick=\"convertToInteractive('df-afa1c762-6f83-437e-9f8f-4fcba888a0bd')\"\n",
              "              title=\"Convert this dataframe to an interactive table.\"\n",
              "              style=\"display:none;\">\n",
              "        \n",
              "  <svg xmlns=\"http://www.w3.org/2000/svg\" height=\"24px\"viewBox=\"0 0 24 24\"\n",
              "       width=\"24px\">\n",
              "    <path d=\"M0 0h24v24H0V0z\" fill=\"none\"/>\n",
              "    <path d=\"M18.56 5.44l.94 2.06.94-2.06 2.06-.94-2.06-.94-.94-2.06-.94 2.06-2.06.94zm-11 1L8.5 8.5l.94-2.06 2.06-.94-2.06-.94L8.5 2.5l-.94 2.06-2.06.94zm10 10l.94 2.06.94-2.06 2.06-.94-2.06-.94-.94-2.06-.94 2.06-2.06.94z\"/><path d=\"M17.41 7.96l-1.37-1.37c-.4-.4-.92-.59-1.43-.59-.52 0-1.04.2-1.43.59L10.3 9.45l-7.72 7.72c-.78.78-.78 2.05 0 2.83L4 21.41c.39.39.9.59 1.41.59.51 0 1.02-.2 1.41-.59l7.78-7.78 2.81-2.81c.8-.78.8-2.07 0-2.86zM5.41 20L4 18.59l7.72-7.72 1.47 1.35L5.41 20z\"/>\n",
              "  </svg>\n",
              "      </button>\n",
              "      \n",
              "  <style>\n",
              "    .colab-df-container {\n",
              "      display:flex;\n",
              "      flex-wrap:wrap;\n",
              "      gap: 12px;\n",
              "    }\n",
              "\n",
              "    .colab-df-convert {\n",
              "      background-color: #E8F0FE;\n",
              "      border: none;\n",
              "      border-radius: 50%;\n",
              "      cursor: pointer;\n",
              "      display: none;\n",
              "      fill: #1967D2;\n",
              "      height: 32px;\n",
              "      padding: 0 0 0 0;\n",
              "      width: 32px;\n",
              "    }\n",
              "\n",
              "    .colab-df-convert:hover {\n",
              "      background-color: #E2EBFA;\n",
              "      box-shadow: 0px 1px 2px rgba(60, 64, 67, 0.3), 0px 1px 3px 1px rgba(60, 64, 67, 0.15);\n",
              "      fill: #174EA6;\n",
              "    }\n",
              "\n",
              "    [theme=dark] .colab-df-convert {\n",
              "      background-color: #3B4455;\n",
              "      fill: #D2E3FC;\n",
              "    }\n",
              "\n",
              "    [theme=dark] .colab-df-convert:hover {\n",
              "      background-color: #434B5C;\n",
              "      box-shadow: 0px 1px 3px 1px rgba(0, 0, 0, 0.15);\n",
              "      filter: drop-shadow(0px 1px 2px rgba(0, 0, 0, 0.3));\n",
              "      fill: #FFFFFF;\n",
              "    }\n",
              "  </style>\n",
              "\n",
              "      <script>\n",
              "        const buttonEl =\n",
              "          document.querySelector('#df-afa1c762-6f83-437e-9f8f-4fcba888a0bd button.colab-df-convert');\n",
              "        buttonEl.style.display =\n",
              "          google.colab.kernel.accessAllowed ? 'block' : 'none';\n",
              "\n",
              "        async function convertToInteractive(key) {\n",
              "          const element = document.querySelector('#df-afa1c762-6f83-437e-9f8f-4fcba888a0bd');\n",
              "          const dataTable =\n",
              "            await google.colab.kernel.invokeFunction('convertToInteractive',\n",
              "                                                     [key], {});\n",
              "          if (!dataTable) return;\n",
              "\n",
              "          const docLinkHtml = 'Like what you see? Visit the ' +\n",
              "            '<a target=\"_blank\" href=https://colab.research.google.com/notebooks/data_table.ipynb>data table notebook</a>'\n",
              "            + ' to learn more about interactive tables.';\n",
              "          element.innerHTML = '';\n",
              "          dataTable['output_type'] = 'display_data';\n",
              "          await google.colab.output.renderOutput(dataTable, element);\n",
              "          const docLink = document.createElement('div');\n",
              "          docLink.innerHTML = docLinkHtml;\n",
              "          element.appendChild(docLink);\n",
              "        }\n",
              "      </script>\n",
              "    </div>\n",
              "  </div>\n",
              "  "
            ],
            "text/plain": [
              "                   Average   Median            Mode         Total\n",
              "dropoff_site                                                     \n",
              "TDS LANDFILL  15173.665095  14920.0  ([20.0], [21])  1.621761e+08"
            ]
          },
          "execution_count": 22,
          "metadata": {},
          "output_type": "execute_result"
        }
      ],
      "source": [
        "TDSL = df.loc[df['dropoff_site']=='TDS LANDFILL'].sort_values('report_date').reset_index(drop=True)\n",
        "TDSL.groupby('dropoff_site').agg(Average=('load_weight',np.mean),\n",
        "                                 Median =('load_weight',np.median),\n",
        "                                 Mode   =('load_weight',stats.mode),\n",
        "                                 Total  =('load_weight',np.sum))"
      ]
    },
    {
      "cell_type": "code",
      "execution_count": 23,
      "metadata": {
        "colab": {
          "base_uri": "https://localhost:8080/"
        },
        "id": "W2D0vzRiTqev",
        "outputId": "c6e65212-620c-47c4-abd3-ae55660fc261"
      },
      "outputs": [
        {
          "data": {
            "text/plain": [
              "(10688, 5)"
            ]
          },
          "execution_count": 23,
          "metadata": {},
          "output_type": "execute_result"
        }
      ],
      "source": [
        "TDSL.shape"
      ]
    },
    {
      "cell_type": "markdown",
      "metadata": {
        "id": "eRHOiwRafNhQ"
      },
      "source": [
        "Now let's draw a graph to illustrate the data."
      ]
    },
    {
      "cell_type": "code",
      "execution_count": 24,
      "metadata": {
        "colab": {
          "base_uri": "https://localhost:8080/",
          "height": 0
        },
        "id": "71GquQrZTl_7",
        "outputId": "74bbfca6-fc23-45ff-f032-4592cce41cb4"
      },
      "outputs": [
        {
          "data": {
            "image/png": "[encoded data removed]",
            "text/plain": [
              "<Figure size 432x288 with 1 Axes>"
            ]
          },
          "metadata": {
            "needs_background": "light"
          },
          "output_type": "display_data"
        },
        {
          "data": {
            "image/png": "[encoded data removed]",
            "text/plain": [
              "<Figure size 576x144 with 1 Axes>"
            ]
          },
          "metadata": {
            "needs_background": "light"
          },
          "output_type": "display_data"
        },
        {
          "name": "stdout",
          "output_type": "stream",
          "text": [
            "Average:  15173.665095377995\n",
            "Median:  14920.0\n",
            "Mode:  20.0\n",
            "Skewness:  3.6992825886419376\n",
            "Kurtosis:  88.34777993378147\n"
          ]
        }
      ],
      "source": [
        "mean      = np.mean(TDSL['load_weight'])\n",
        "median    = np.median(TDSL['load_weight'])\n",
        "mode      = stats.mode(TDSL['load_weight'])\n",
        "skewness  = TDSL['load_weight'].skew()\n",
        "kurtosis  = TDSL['load_weight'].kurt()\n",
        "density   = stats.gaussian_kde(TDSL['load_weight'])\n",
        "\n",
        "n, x, _ = plt.hist(TDSL['load_weight'], histtype='step', bins=600)  \n",
        "plt.plot(x, density(x)*5**9)\n",
        "plt.axvline(mean,   color='magenta', linestyle='dashed', linewidth=2, label = 'Average')\n",
        "plt.axvline(median, color='green',   linestyle='dashed', linewidth=2, label = 'Median')\n",
        "plt.axvline(mode[0][0],   color='black',   linestyle='dashed', linewidth=2, label = 'Mode')\n",
        "plt.show()\n",
        "\n",
        "TDSL['load_weight'].plot(kind='box', title='Daily Load', vert = 0, figsize=(8,2))\n",
        "plt.show()\n",
        "\n",
        "print('Average: ',  mean)\n",
        "print('Median: ',   median)\n",
        "print('Mode: ',     mode[0][0])\n",
        "print('Skewness: ', skewness)\n",
        "print('Kurtosis: ', kurtosis)"
      ]
    },
    {
      "cell_type": "markdown",
      "metadata": {
        "id": "-tu_71spUokH"
      },
      "source": [
        "Deducing from these graph, the data is highly skewed to the right because the skewness value is at 3.6, higher than threshold of 1.0 to be considered skewed. The skewness is caused by some unusually high loads that skews the average to the right/higher. These high loads are considered as outliers by the system.\n",
        "\n",
        "The outliers compose only 0.06% of the data, so let's eliminate these outliers from the data to see the proper load distribution throughout the year. "
      ]
    },
    {
      "cell_type": "markdown",
      "metadata": {
        "id": "gASOq8NFfiyp"
      },
      "source": [
        "##**E.2. Outlier elimination**"
      ]
    },
    {
      "cell_type": "markdown",
      "metadata": {
        "id": "d6nmHQr5fvhQ"
      },
      "source": [
        "The outliers sit well beyind the distribution graph. We are going to use Z-value elimination method to eliminate them and them only."
      ]
    },
    {
      "cell_type": "code",
      "execution_count": 25,
      "metadata": {
        "id": "n-pE-R9yYnwE"
      },
      "outputs": [],
      "source": [
        "TDSL['z-value'] = stats.zscore(TDSL.load_weight)"
      ]
    },
    {
      "cell_type": "code",
      "execution_count": 26,
      "metadata": {
        "id": "WVCGkLfsZMSJ"
      },
      "outputs": [],
      "source": [
        "TDSL_trim = TDSL.copy()\n",
        "TDSL_trim.drop(TDSL_trim[TDSL_trim['z-value'] < -3].index, inplace = True)\n",
        "TDSL_trim.drop(TDSL_trim[TDSL_trim['z-value'] > 3].index, inplace = True)"
      ]
    },
    {
      "cell_type": "code",
      "execution_count": 27,
      "metadata": {
        "colab": {
          "base_uri": "https://localhost:8080/"
        },
        "id": "09aafifVZn05",
        "outputId": "9c47b94d-6e3b-4eea-e93d-175dd1bea3c0"
      },
      "outputs": [
        {
          "data": {
            "text/plain": [
              "(10681, 6)"
            ]
          },
          "execution_count": 27,
          "metadata": {},
          "output_type": "execute_result"
        }
      ],
      "source": [
        "TDSL_trim.shape"
      ]
    },
    {
      "cell_type": "markdown",
      "metadata": {
        "id": "Ym6gp81GgLof"
      },
      "source": [
        "We have successfully dropped the seven outliers."
      ]
    },
    {
      "cell_type": "code",
      "execution_count": 28,
      "metadata": {
        "colab": {
          "base_uri": "https://localhost:8080/",
          "height": 0
        },
        "id": "jHIsS16kZ_vr",
        "outputId": "2a8a0016-986b-4f64-c2b7-843afb764dc4"
      },
      "outputs": [
        {
          "data": {
            "image/png": "[encoded data removed]",
            "text/plain": [
              "<Figure size 432x288 with 1 Axes>"
            ]
          },
          "metadata": {
            "needs_background": "light"
          },
          "output_type": "display_data"
        },
        {
          "data": {
            "image/png": "[encoded data removed]",
            "text/plain": [
              "<Figure size 576x144 with 1 Axes>"
            ]
          },
          "metadata": {
            "needs_background": "light"
          },
          "output_type": "display_data"
        },
        {
          "name": "stdout",
          "output_type": "stream",
          "text": [
            "Average:  15098.838642393035\n",
            "Median:  14920.0\n",
            "Mode:  20.0\n",
            "Skewness:  0.018714365900324756\n",
            "Kurtosis:  -0.9735085850718455\n"
          ]
        }
      ],
      "source": [
        "mean      = np.mean(TDSL_trim['load_weight'])\n",
        "median    = np.median(TDSL_trim['load_weight'])\n",
        "mode      = stats.mode(TDSL_trim['load_weight'])\n",
        "skewness  = TDSL_trim['load_weight'].skew()\n",
        "kurtosis  = TDSL_trim['load_weight'].kurt()\n",
        "density   = stats.gaussian_kde(TDSL_trim['load_weight'])\n",
        "\n",
        "n, x, _ = plt.hist(TDSL_trim['load_weight'], histtype='step', bins=100)  \n",
        "plt.plot(x, density(x)*5**9)\n",
        "plt.axvline(mean,   color='magenta', linestyle='dashed', linewidth=2, label = 'Average')\n",
        "plt.axvline(median, color='green',   linestyle='dashed', linewidth=2, label = 'Median')\n",
        "plt.axvline(mode[0][0],   color='black',   linestyle='dashed', linewidth=2, label = 'Mode')\n",
        "plt.show()\n",
        "\n",
        "TDSL_trim['load_weight'].plot(kind='box', title='Daily Load', vert = 0, figsize=(8,2))\n",
        "plt.show()\n",
        "\n",
        "print('Average: ',  mean)\n",
        "print('Median: ',   median)\n",
        "print('Mode: ',     mode[0][0])\n",
        "print('Skewness: ', skewness)\n",
        "print('Kurtosis: ', kurtosis)"
      ]
    },
    {
      "cell_type": "markdown",
      "metadata": {
        "id": "bayejls3a1mT"
      },
      "source": [
        "After dropping the outlier rows, the skewness value decreased to 0.01, well below the threshold of 0.5, so the distribution is considered to be unskewed. Compared to central tendencies of untrimmed data, the average matches closer to median. \n",
        "\n",
        "This data more accurately reflects the usual load intake of TDS Landfill. at slightly above 15 thousand lbs per load on average"
      ]
    },
    {
      "cell_type": "code",
      "execution_count": 28,
      "metadata": {
        "id": "1OJpI2Ujds02"
      },
      "outputs": [],
      "source": []
    },
    {
      "cell_type": "markdown",
      "metadata": {
        "id": "iqRlj2I5go1g"
      },
      "source": [
        "##**E.3. Spread of data**"
      ]
    },
    {
      "cell_type": "markdown",
      "metadata": {
        "id": "l8dBde8DdINA"
      },
      "source": [
        "After examining TDSL's central tendencies, we can proceed to examine spread of the data"
      ]
    },
    {
      "cell_type": "code",
      "execution_count": 29,
      "metadata": {
        "colab": {
          "base_uri": "https://localhost:8080/"
        },
        "id": "223Wrms6dn-q",
        "outputId": "0ab04f73-1ad7-4a80-b7b5-47b42d4d7d4c"
      },
      "outputs": [
        {
          "name": "stdout",
          "output_type": "stream",
          "text": [
            "Range:  35899.8836\n",
            "Variance:  61636740.34540055\n",
            "Standard Deviation:  7850.906975974212\n",
            "Z1 ranges from  7069.093024025788  to  22770.906975974212\n",
            "Z2 ranges from  -781.8139519484248  to  30621.813951948425\n"
          ]
        }
      ],
      "source": [
        "range    = TDSL_trim['load_weight'].max() - TDSL_trim['load_weight'].min()\n",
        "variance = np.var(TDSL_trim['load_weight'])\n",
        "std      = np.std(TDSL_trim['load_weight'])\n",
        "\n",
        "Z1L = median - std\n",
        "Z1U = median + std\n",
        "Z2L = median - (2*std)\n",
        "Z2U = median + (2*std)\n",
        "\n",
        "print('Range: ',  range)\n",
        "print('Variance: ',   variance)\n",
        "print('Standard Deviation: ',     std)\n",
        "print('Z1 ranges from ', Z1L, ' to ', Z1U)\n",
        "print('Z2 ranges from ', Z2L, ' to ', Z2U)"
      ]
    },
    {
      "cell_type": "markdown",
      "metadata": {
        "id": "NcXPLUXdmOtJ"
      },
      "source": [
        "Using the obtained standard deviation and the standard deviation formula, we can deduce that:\n",
        "\n",
        "*   Around 68.26% of load intake weight between 7069 and 22770 lbs\n",
        "*   Around 95.45% of load intake weight less than 30621 lbs\n",
        "\n"
      ]
    },
    {
      "cell_type": "markdown",
      "metadata": {
        "id": "pHRtPe9Kn34C"
      },
      "source": [
        "#**F. New Site Study**"
      ]
    },
    {
      "cell_type": "markdown",
      "metadata": {
        "id": "ALTz46mzm5KK"
      },
      "source": [
        "##**F.1 Estimating new site's capacity**"
      ]
    },
    {
      "cell_type": "markdown",
      "metadata": {
        "id": "q53QvJPppqTc"
      },
      "source": [
        "The city of Austin is planning to increase the city's disposal capacity by establishing a new disposal site. The site suitable for this objective would be a general type site like TDSL. From that conjencture, let's draw a parallel from TDSL using the confidence interval to estimate the capacity needed for the new site."
      ]
    },
    {
      "cell_type": "code",
      "execution_count": 30,
      "metadata": {
        "id": "3redqdaBrms6"
      },
      "outputs": [],
      "source": [
        "daily_load = TDSL_trim.groupby(\"report_date\")['load_weight'].sum()\n",
        "\n",
        "mean_dl = np.mean(daily_load)\n",
        "std_dl  = np.std(daily_load)"
      ]
    },
    {
      "cell_type": "code",
      "execution_count": 31,
      "metadata": {
        "colab": {
          "base_uri": "https://localhost:8080/"
        },
        "id": "pEQdfRRH0hmL",
        "outputId": "c2a590e6-791b-4bd0-f3d6-b1004bb55742"
      },
      "outputs": [
        {
          "data": {
            "text/plain": [
              "1001681.3387540374"
            ]
          },
          "execution_count": 31,
          "metadata": {},
          "output_type": "execute_result"
        }
      ],
      "source": [
        "mean_dl"
      ]
    },
    {
      "cell_type": "code",
      "execution_count": 32,
      "metadata": {
        "id": "TKuYqI4Eq2NU"
      },
      "outputs": [],
      "source": [
        "ci = stats.norm.interval(0.95, mean_dl, std_dl)"
      ]
    },
    {
      "cell_type": "code",
      "execution_count": 33,
      "metadata": {
        "colab": {
          "base_uri": "https://localhost:8080/"
        },
        "id": "pralNrWnsvgZ",
        "outputId": "062175a6-0faf-4584-d424-efa5279da0e5"
      },
      "outputs": [
        {
          "name": "stdout",
          "output_type": "stream",
          "text": [
            "Capacity needed 2008144.4606803523 lbs\n"
          ]
        }
      ],
      "source": [
        "print('Capacity needed', ci[1], 'lbs')"
      ]
    },
    {
      "cell_type": "markdown",
      "metadata": {
        "id": "RJrKS9gEs_xg"
      },
      "source": [
        "Based from the calculation, if the new site needs to be around the same capacity to TDSL, it needs to be able to process around 2 million lbs of waste every day. At that capacity, the new site is expected to be able to handle daily load intake 95% of the time, which means for every 100 operating days, there would be 5 days where it needs to be diverted into other sites."
      ]
    },
    {
      "cell_type": "markdown",
      "metadata": {
        "id": "UHDve4WPineh"
      },
      "source": [
        "##**F.2. Hypothesizing new site's performane**"
      ]
    },
    {
      "cell_type": "markdown",
      "metadata": {
        "id": "ZQlfgTP12-E7"
      },
      "source": [
        "Let's say that the new site is only partially operating, and only process 750000 lbs of waste on average every day. Does that means on average TDSL still process significantly more waste?\n",
        "\n",
        "We can use the hypothesis testing to answer this question."
      ]
    },
    {
      "cell_type": "markdown",
      "metadata": {
        "id": "CVlGXbn4uDHq"
      },
      "source": [
        "Hypothesis 0: New Site μ >= TDSL μ\n",
        "\n",
        "Hypothesis 1: New Site μ < TDSL μ\n",
        "\n",
        "With those hypotheses, we are going to use single sample hypotest to find out the answer."
      ]
    },
    {
      "cell_type": "code",
      "execution_count": 55,
      "metadata": {
        "colab": {
          "base_uri": "https://localhost:8080/"
        },
        "id": "NcW3PE8FvWmL",
        "outputId": "43c17854-be41-40d2-e135-3adec28f33d2"
      },
      "outputs": [
        {
          "name": "stdout",
          "output_type": "stream",
          "text": [
            "P-value: 2.3136408960798014e-09\n",
            "t-statistics: 6.199565193604155\n"
          ]
        }
      ],
      "source": [
        "t_stat,p_val = stats.ttest_1samp(daily_load, 750000)\n",
        "print('P-value:',p_val/2)\n",
        "print('t-statistics:',t_stat)"
      ]
    },
    {
      "cell_type": "code",
      "execution_count": 54,
      "metadata": {
        "colab": {
          "base_uri": "https://localhost:8080/",
          "height": 416
        },
        "id": "31BWwTKCujuM",
        "outputId": "1f5f2aae-9317-4107-f79d-ae69e6b0c04c"
      },
      "outputs": [
        {
          "name": "stderr",
          "output_type": "stream",
          "text": [
            "/usr/local/lib/python3.7/dist-packages/seaborn/distributions.py:2619: FutureWarning: `distplot` is a deprecated function and will be removed in a future version. Please adapt your code to use either `displot` (a figure-level function with similar flexibility) or `histplot` (an axes-level function for histograms).\n",
            "  warnings.warn(msg, FutureWarning)\n"
          ]
        },
        {
          "data": {
            "text/plain": [
              "<matplotlib.legend.Legend at 0x7f08b24c2590>"
            ]
          },
          "execution_count": 54,
          "metadata": {},
          "output_type": "execute_result"
        },
        {
          "data": {
            "image/png": "[encoded data removed]",
            "text/plain": [
              "<Figure size 1152x360 with 1 Axes>"
            ]
          },
          "metadata": {
            "needs_background": "light"
          },
          "output_type": "display_data"
        }
      ],
      "source": [
        "daily_load_pop = np.random.normal(mean_dl, std_dl, 10000)\n",
        "\n",
        "mean_pop = np.mean(daily_load_pop)\n",
        "std_pop  = np.std(daily_load_pop)\n",
        "\n",
        "plt.figure(figsize=(16,5))\n",
        "sns.distplot(daily_load_pop, label='Daily Load (Population)', color='blue')\n",
        "plt.axvline(mean_dl, color='red', linewidth=2, label='Daily Income (Mean)')\n",
        "plt.axvline(ci[1], color='green', linestyle='dashed', linewidth=2, label='confidence threshold of 95%')\n",
        "plt.axvline(mean_pop + t_stat*std_pop, color='black', linestyle='dashed', linewidth=2, label = 'Alternative Hypothesis')\n",
        "plt.legend()"
      ]
    },
    {
      "cell_type": "markdown",
      "metadata": {
        "id": "5PHjJbXfMcHw"
      },
      "source": [
        "Since P-value is lower than 0.05 we can reject Hypothesis 0. In other words, TDSL is still processing significantly more waste than the new site."
      ]
    },
    {
      "cell_type": "markdown",
      "metadata": {
        "id": "XkXFSC4J4S_C"
      },
      "source": [
        "#**G. Predicting Waste Load**"
      ]
    },
    {
      "cell_type": "markdown",
      "metadata": {
        "id": "Y9rZOkeBNAzJ"
      },
      "source": [
        "Using mathematics, we can calculate the rate of change of daily waste disposal, and by an extent, forecast future waste disposal amount. \n",
        "\n",
        "That mathematics principle is called derivative, and we're going to calculate it with the computer using graphical method. Graphical method is more accurate than numerical method since every derivative value calculation is independent from the previous derivative value."
      ]
    },
    {
      "cell_type": "code",
      "execution_count": null,
      "metadata": {
        "id": "Sc5_D60u4cUT"
      },
      "outputs": [],
      "source": [
        "Austin_daily_load = df.groupby(\"report_date\")['load_weight'].sum()\n",
        "\n",
        "days = Austin_daily_load.reset_index().index\n",
        "\n",
        "ROC = np.diff(Austin_daily_load) / np.diff(days)"
      ]
    },
    {
      "cell_type": "code",
      "execution_count": null,
      "metadata": {
        "colab": {
          "base_uri": "https://localhost:8080/"
        },
        "id": "-t6NERY2R2yl",
        "outputId": "07906f69-2d68-4984-9563-db2acf650157"
      },
      "outputs": [
        {
          "data": {
            "text/plain": [
              "report_date\n",
              "2021-01-02    2170130.0\n",
              "2021-01-04    2920260.0\n",
              "2021-01-05    2388540.0\n",
              "2021-01-06    2396550.0\n",
              "2021-01-07    2438330.0\n",
              "                ...    \n",
              "2021-07-05    1897290.0\n",
              "2021-07-06    1921640.0\n",
              "2021-07-07    1553080.0\n",
              "2021-07-08    1417650.0\n",
              "2021-07-09     120340.0\n",
              "Name: load_weight, Length: 165, dtype: float64"
            ]
          },
          "execution_count": 56,
          "metadata": {},
          "output_type": "execute_result"
        }
      ],
      "source": [
        "Austin_daily_load"
      ]
    },
    {
      "cell_type": "code",
      "execution_count": null,
      "metadata": {
        "colab": {
          "base_uri": "https://localhost:8080/"
        },
        "id": "H36EojGqRz1K",
        "outputId": "ac8fcc08-8ed3-444d-94ab-e21b78c55e18"
      },
      "outputs": [
        {
          "data": {
            "text/plain": [
              "-1297310.0"
            ]
          },
          "execution_count": 58,
          "metadata": {},
          "output_type": "execute_result"
        }
      ],
      "source": [
        "ROC[-1]*1"
      ]
    },
    {
      "cell_type": "markdown",
      "metadata": {
        "id": "bkh94F8VPh5H"
      },
      "source": [
        "ROC is an array that shows the rate of change of daily waste disposal. If it's value on a given day is 0, then that day's amount of waste disposed is the same as yesterday. If it is negative, then today's amount is less than yesterday, and vice versa.\n",
        "\n",
        "Now, let's use the ROC of the last day and apply it to the last day's amount to predict tomorrow's waste disposal."
      ]
    },
    {
      "cell_type": "code",
      "execution_count": null,
      "metadata": {
        "id": "v2YT_UKcQOo9"
      },
      "outputs": [],
      "source": [
        "tomorrow = Austin_daily_load[-1] + (ROC[-1]*1)"
      ]
    },
    {
      "cell_type": "markdown",
      "metadata": {
        "id": "hZb9k2gvQwEV"
      },
      "source": [
        "ROC only contains the ***rate of change*** by day! so if we want to calculate the actual change, we have to multiply it by the time period during the change. but since our time period is also a single day, we only have to put one as the multiplier."
      ]
    },
    {
      "cell_type": "code",
      "execution_count": null,
      "metadata": {
        "colab": {
          "base_uri": "https://localhost:8080/"
        },
        "id": "NI8fIE6yRUyZ",
        "outputId": "ad1d1e84-9c71-4619-e410-11aa0b07e639"
      },
      "outputs": [
        {
          "name": "stdout",
          "output_type": "stream",
          "text": [
            "The predicted waste load for tomorrow (10th june 2022) is:  -1176970.0 lbs\n"
          ]
        }
      ],
      "source": [
        "print('The predicted waste load for tomorrow (10th june 2022) is: ', tomorrow, 'lbs')"
      ]
    },
    {
      "cell_type": "markdown",
      "metadata": {
        "id": "8D_p9095S33G"
      },
      "source": [
        "Well, that does not look right. Let's check out the few last data to see if anything goes wrong with either the load amount or the ROC."
      ]
    },
    {
      "cell_type": "code",
      "execution_count": null,
      "metadata": {
        "colab": {
          "base_uri": "https://localhost:8080/"
        },
        "id": "t-WZWVpTRwgr",
        "outputId": "328728c8-de67-46c3-ea1a-ac31159ad0fb"
      },
      "outputs": [
        {
          "data": {
            "text/plain": [
              "report_date\n",
              "2021-07-06    1921640.0\n",
              "2021-07-07    1553080.0\n",
              "2021-07-08    1417650.0\n",
              "2021-07-09     120340.0\n",
              "Name: load_weight, dtype: float64"
            ]
          },
          "execution_count": 66,
          "metadata": {},
          "output_type": "execute_result"
        }
      ],
      "source": [
        "Austin_daily_load[-4:]"
      ]
    },
    {
      "cell_type": "markdown",
      "metadata": {
        "id": "mpc35QpQTym8"
      },
      "source": [
        "It appears that the data on 9th June 2022 drops very low from the previous days, most likely because the day hasn't ended yet when the data was uploaded. The rate of change from 8th to 9th is crashing down suddenly and if we use that rate to extrapolate the 10th, of course we will get negative numbers. \n",
        "\n",
        "We can do the next best thing and extrapolate the 10th from the values of 7th and 8th and their ROC instead."
      ]
    },
    {
      "cell_type": "code",
      "execution_count": null,
      "metadata": {
        "colab": {
          "base_uri": "https://localhost:8080/"
        },
        "id": "H4HJVkEkU478",
        "outputId": "3e190a15-179f-42bf-95f4-4854132e5da9"
      },
      "outputs": [
        {
          "name": "stdout",
          "output_type": "stream",
          "text": [
            "The predicted waste load for tomorrow (10th june 2022) is:  1282220.0 lbs\n"
          ]
        }
      ],
      "source": [
        "tomorrow_2 = Austin_daily_load[-2] + (ROC[-2]*1)\n",
        "print('The predicted waste load for tomorrow (10th june 2022) is: ', tomorrow_2, 'lbs')"
      ]
    },
    {
      "cell_type": "markdown",
      "metadata": {
        "id": "mE_uic6VVDfg"
      },
      "source": [
        "Now that is the amount of waste we can reasonably expect for the next day."
      ]
    },
    {
      "cell_type": "markdown",
      "metadata": {
        "id": "rzcxFTftd0tB"
      },
      "source": [
        "#**Conclusions, Assumptions, Overall Analysis**"
      ]
    },
    {
      "cell_type": "markdown",
      "metadata": {
        "id": "zd1dRcKH9TUn"
      },
      "source": [
        "##**Conclusion**"
      ]
    },
    {
      "cell_type": "markdown",
      "metadata": {
        "id": "k4tevFRQnwkp"
      },
      "source": [
        "* The city of Austin process around 1.5 million lbs of waste every day\n",
        "* About two thirds of it is processed on TDSL alone, making it the vital waste disposal facility of the city."
      ]
    },
    {
      "cell_type": "markdown",
      "metadata": {
        "id": "c_7Oz-5e9lzg"
      },
      "source": [
        "##**Assumptions**"
      ]
    },
    {
      "cell_type": "markdown",
      "metadata": {
        "id": "fKHMsIexoEGK"
      },
      "source": [
        "* The waste from city of Austin is rarely recycled. Probably due to high cost to profit margin of recycling process and lack of recyclability of American products. "
      ]
    },
    {
      "cell_type": "markdown",
      "metadata": {
        "id": "VkKhNOXf9ox1"
      },
      "source": [
        "##**Analysis**"
      ]
    },
    {
      "cell_type": "markdown",
      "metadata": {
        "id": "FsosA25nAwaR"
      },
      "source": [
        "Final analysis from this assignment is that a developed and dense country like the Netherlands also have it's unique challenges and advantage in managing the COVID-19 pandemic."
      ]
    },
    {
      "cell_type": "markdown",
      "metadata": {
        "id": "UH9O-OE-oecy"
      },
      "source": [
        "The final analysis of this assignment is that the city of Austin still have a long way to go to minimize it's waste production."
      ]
    }
  ],
  "metadata": {
    "colab": {
      "collapsed_sections": [
        "tjI3XUYwwaj4",
        "Td4alT4w2XB9",
        "qr6NM50Q2lLr",
        "8Vmlx8kzzcpM",
        "hk5LDWUAo7Ps",
        "i7J1FdRa2ASA",
        "V2JoiXmXocOm",
        "LETl46H7WyZi",
        "enpCA0cPwOeu",
        "IzwDr8EwckFE",
        "FoZxa5qXda_p",
        "cLeg3N3Ado0z",
        "NfuJtEz-zkdZ",
        "nLnUoAJZebzC",
        "gASOq8NFfiyp",
        "iqRlj2I5go1g",
        "pHRtPe9Kn34C",
        "ALTz46mzm5KK",
        "UHDve4WPineh",
        "XkXFSC4J4S_C"
      ],
      "name": "h8dsft_P0W2_ihsan_aulia_rahman.ipynb",
      "provenance": []
    },
    "gpuClass": "standard",
    "kernelspec": {
      "display_name": "Python 3",
      "name": "python3"
    },
    "language_info": {
      "name": "python"
    },
    "orig_nbformat": 4
  },
  "nbformat": 4,
  "nbformat_minor": 0
}
